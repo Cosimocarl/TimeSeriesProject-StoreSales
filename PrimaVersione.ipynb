{
 "cells": [
  {
   "cell_type": "markdown",
   "metadata": {},
   "source": [
    "# Time Series Project - Store Sales\n",
    "#### Cosimo Carlo Canova"
   ]
  },
  {
   "cell_type": "markdown",
   "metadata": {},
   "source": [
    "## Objective :"
   ]
  },
  {
   "cell_type": "markdown",
   "metadata": {},
   "source": [
    "### To predict sales of different products by store and household based on historical data, including promotional factors."
   ]
  },
  {
   "cell_type": "markdown",
   "metadata": {},
   "source": [
    "## Tasks :"
   ]
  },
  {
   "cell_type": "markdown",
   "metadata": {},
   "source": [
    "###  - Analyze the dataset features: store_nbr, family, onpromotion, sales (target), date\n",
    "### - Identify any relationships between variables, such as the impact of promotions on sales or seasonal differences between stores and products."
   ]
  }
 ],
 "metadata": {
  "language_info": {
   "name": "python"
  }
 },
 "nbformat": 4,
 "nbformat_minor": 2
}
